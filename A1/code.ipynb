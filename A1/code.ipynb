{
  "nbformat": 4,
  "nbformat_minor": 0,
  "metadata": {
    "colab": {
      "provenance": []
    },
    "kernelspec": {
      "name": "python3",
      "display_name": "Python 3"
    },
    "language_info": {
      "name": "python"
    }
  },
  "cells": [
    {
      "cell_type": "code",
      "execution_count": null,
      "metadata": {
        "id": "LiQi6coXT28e"
      },
      "outputs": [],
      "source": [
        "import numpy as np"
      ]
    },
    {
      "cell_type": "code",
      "source": [
        "#Given DNA Sequences\n",
        "Seq1 = \"GATGCGCAG\" \n",
        "Seq2 = \"GGCAGTA\"\n",
        "\n",
        "#Given scoring value\n",
        "Match = 2 \n",
        "Mismatch = -3\n",
        "Gap = -1\n",
        "\n",
        "#initializing the number of rows and columns for the DP table\n",
        "m = len(Seq2) + 1\n",
        "n = len(Seq1) + 1"
      ],
      "metadata": {
        "id": "AEug8lL-T-Tx"
      },
      "execution_count": null,
      "outputs": []
    },
    {
      "cell_type": "code",
      "source": [
        "#function to fill matrix for the global alignments \n",
        "def globalAlignment(dp):\n",
        "\n",
        "#initializing the 0th row and 0th column in DP table\n",
        "  for i in range(m):\n",
        "    dp[i][0] = Gap*i\n",
        "  for j in range(n):\n",
        "    dp[0][j] = Gap*j\n",
        "\n",
        "  for i in range(1, m):\n",
        "    for j in range(1, n):\n",
        "      if Seq2[i-1] == Seq1[j-1]:\n",
        "        diagonal = dp[i-1][j-1]+Match  \n",
        "      else:\n",
        "        diagonal = dp[i-1][j-1]+Mismatch  \n",
        "      vertical = dp[i-1][j] + Gap   \n",
        "      horizontal = dp[i][j-1] + Gap   \n",
        "      dp[i][j] = max(diagonal, vertical, horizontal)\n",
        "\n",
        "  return dp\n",
        "  "
      ],
      "metadata": {
        "id": "U_XWbE-fUGhx"
      },
      "execution_count": null,
      "outputs": []
    },
    {
      "cell_type": "code",
      "source": [
        "#function to print matrix\n",
        "def printMatrix(dp):\n",
        "  S = '_'+Seq1\n",
        "  T = '_'+Seq2\n",
        "\n",
        "  for i in range(m+1):\n",
        "    for j in range(n+1):\n",
        "      if i == 0 and j == 0:\n",
        "        print('X', end = '\\t')\n",
        "      elif i == 0:\n",
        "        print(S[j-1], end = '\\t')\n",
        "      elif j== 0:\n",
        "        print(T[i-1], end = '\\t')\n",
        "      else:\n",
        "        print(dp[i-1][j-1], end = '\\t')\n",
        "    print()"
      ],
      "metadata": {
        "id": "xegZW4u_UJFt"
      },
      "execution_count": null,
      "outputs": []
    },
    {
      "cell_type": "code",
      "source": [
        "#function to traceback for finding the all optimal alignments with their scores in case of global alignment\n",
        "def globalBacktrack(seq1,seq2,align1,align2,matrix,i,j,score):\n",
        "\n",
        "  if(i==0 and j==0):\n",
        "    print(align1)\n",
        "    print(align2)\n",
        "    print(f\"Score is: {score}\")\n",
        "    print(\"------------------------------\")\n",
        "    print()\n",
        "    return\n",
        "\n",
        "  if (i!=0 and j!=0 and seq2[i-1] == seq1[j-1] and (matrix[i][j] == (matrix[i-1][j-1]+Match))):\n",
        "    globalBacktrack(seq1, seq2, seq1[j-1]+align1, seq2[i-1]+align2, matrix, i-1,j-1,score+Match)\n",
        "\n",
        "  if (i!=0 and j!=0 and seq2[i-1] != seq1[j-1] and (matrix[i][j] == (matrix[i-1][j-1]+Mismatch))):\n",
        "    globalBacktrack(seq1, seq2, seq1[j-1]+align1, seq2[i-1]+align2, matrix, i-1,j-1,score+Mismatch)\n",
        "  \n",
        "  if(i!=0 and matrix[i][j] == matrix[i-1][j]+Gap):\n",
        "    globalBacktrack(seq1, seq2, \"-\"+align1, seq2[i-1]+align2, matrix, i-1, j,score+Gap)\n",
        "   \n",
        "  if(j!=0 and matrix[i][j] == matrix[i][j-1]+Gap):\n",
        "    globalBacktrack(seq1, seq2, seq1[j-1]+align1, \"-\"+align2, matrix, i, j-1, score+Gap)\n"
      ],
      "metadata": {
        "id": "xLqImdXXUlU9"
      },
      "execution_count": null,
      "outputs": []
    },
    {
      "cell_type": "code",
      "source": [
        "#function to fill matrix for the local alignments \n",
        "def localAlignment(dp):\n",
        "  for i in range(1, m):\n",
        "    for j in range(1, n):\n",
        "      if Seq2[i-1] == Seq1[j-1]:\n",
        "        diagonal = dp[i-1][j-1]+Match  \n",
        "      else:\n",
        "        diagonal = dp[i-1][j-1]+Mismatch  \n",
        "      vertical = dp[i-1][j] + Gap   \n",
        "      horizontal = dp[i][j-1] + Gap   \n",
        "      dp[i][j] = max(diagonal, vertical, horizontal,0)\n",
        "  return dp"
      ],
      "metadata": {
        "id": "AOq87futay-z"
      },
      "execution_count": null,
      "outputs": []
    },
    {
      "cell_type": "code",
      "source": [
        "#function to traceback for finding the all optimal alignments with their scores in case of local alignment\n",
        "def localBacktrack(seq1,seq2,align1,align2,matrix,i,j,score):\n",
        "\n",
        "  if(matrix[i][j]==0):\n",
        "    print(align1)\n",
        "    print(align2)\n",
        "    print(f\"Score is: {score}\")\n",
        "    print(\"------------------------------\")\n",
        "    print()\n",
        "    return\n",
        "\n",
        "  if (i!=0 and j!=0 and seq2[i-1] == seq1[j-1] and (matrix[i][j] == (matrix[i-1][j-1]+Match))):\n",
        "    localBacktrack(seq1, seq2, seq1[j-1]+align1, seq2[i-1]+align2, matrix, i-1,j-1,score+Match)\n",
        "\n",
        "  if (i!=0 and j!=0 and seq2[i-1] != seq1[j-1] and (matrix[i][j] == (matrix[i-1][j-1]+Mismatch))):\n",
        "    localBacktrack(seq1, seq2, seq1[j-1]+align1, seq2[i-1]+align2, matrix, i-1,j-1,score+Mismatch)\n",
        "  \n",
        "  if(i!=0 and matrix[i][j] == matrix[i-1][j]+Gap):\n",
        "    localBacktrack(seq1, seq2, \"-\"+align1, seq2[i-1]+align2, matrix, i-1, j,score+Gap)\n",
        "   \n",
        "  if(j!=0 and matrix[i][j] == matrix[i][j-1]+Gap):\n",
        "    localBacktrack(seq1, seq2, seq1[j-1]+align1, \"-\"+align2, matrix, i, j-1, score+Gap)\n"
      ],
      "metadata": {
        "id": "zNpGJ40lwwCz"
      },
      "execution_count": null,
      "outputs": []
    },
    {
      "cell_type": "code",
      "source": [
        "#function to find index of maximum value in the matrix for local alignment\n",
        "def findMaxIndex(matrix):\n",
        "  row=0\n",
        "  col=0\n",
        "  max=0\n",
        "  for i in range(1, m):\n",
        "      for j in range(1, n):\n",
        "          if(max<matrix[i][j]):\n",
        "              max,row,col= matrix[i][j],i,j\n",
        "  return row,col"
      ],
      "metadata": {
        "id": "B6_39cDfyF5P"
      },
      "execution_count": null,
      "outputs": []
    },
    {
      "cell_type": "markdown",
      "source": [
        "**Question 1**"
      ],
      "metadata": {
        "id": "HdvmjU3DZLUp"
      }
    },
    {
      "cell_type": "code",
      "source": [
        "#initializing the DP table with 0's\n",
        "dp = np.zeros((m, n), dtype = np.int)"
      ],
      "metadata": {
        "id": "j7LSva4b0cQL"
      },
      "execution_count": null,
      "outputs": []
    },
    {
      "cell_type": "code",
      "source": [
        "scoringMatrix = globalAlignment(dp)\n",
        "print(f\"The matrix for global alignment: \")\n",
        "print()\n",
        "printMatrix(scoringMatrix)"
      ],
      "metadata": {
        "colab": {
          "base_uri": "https://localhost:8080/"
        },
        "id": "vE-N2TFkUT83",
        "outputId": "97577af1-22c1-49c2-8fd2-07f2b2f61d49"
      },
      "execution_count": null,
      "outputs": [
        {
          "output_type": "stream",
          "name": "stdout",
          "text": [
            "The matrix for global alignment: \n",
            "\n",
            "X\t_\tG\tA\tT\tG\tC\tG\tC\tA\tG\t\n",
            "_\t0\t-1\t-2\t-3\t-4\t-5\t-6\t-7\t-8\t-9\t\n",
            "G\t-1\t2\t1\t0\t-1\t-2\t-3\t-4\t-5\t-6\t\n",
            "G\t-2\t1\t0\t-1\t2\t1\t0\t-1\t-2\t-3\t\n",
            "C\t-3\t0\t-1\t-2\t1\t4\t3\t2\t1\t0\t\n",
            "A\t-4\t-1\t2\t1\t0\t3\t2\t1\t4\t3\t\n",
            "G\t-5\t-2\t1\t0\t3\t2\t5\t4\t3\t6\t\n",
            "T\t-6\t-3\t0\t3\t2\t1\t4\t3\t2\t5\t\n",
            "A\t-7\t-4\t-1\t2\t1\t0\t3\t2\t5\t4\t\n"
          ]
        }
      ]
    },
    {
      "cell_type": "code",
      "source": [
        "print(f\"All the optimal alignments with their scores: \")\n",
        "print()\n",
        "globalBacktrack(Seq1, Seq2, \"\", \"\", scoringMatrix, m-1, n-1,0) "
      ],
      "metadata": {
        "colab": {
          "base_uri": "https://localhost:8080/"
        },
        "id": "6eGKGu3SUrLE",
        "outputId": "bdc58788-81cb-417d-e760-cd259b73a96f"
      },
      "execution_count": null,
      "outputs": [
        {
          "output_type": "stream",
          "name": "stdout",
          "text": [
            "All the optimal alignments with their scores: \n",
            "\n",
            "GATGCGCAG--\n",
            "---G-GCAGTA\n",
            "Score is: 4\n",
            "------------------------------\n",
            "\n",
            "GATGCGCAG--\n",
            "G----GCAGTA\n",
            "Score is: 4\n",
            "------------------------------\n",
            "\n",
            "GATGCGCAG--\n",
            "G--G--CAGTA\n",
            "Score is: 4\n",
            "------------------------------\n",
            "\n",
            "GATGCGCAG--\n",
            "G--GC--AGTA\n",
            "Score is: 4\n",
            "------------------------------\n",
            "\n",
            "GATGC-GC-AG\n",
            "G--GCAG-TA-\n",
            "Score is: 4\n",
            "------------------------------\n",
            "\n",
            "GATGC-G-CAG\n",
            "G--GCAGT-A-\n",
            "Score is: 4\n",
            "------------------------------\n",
            "\n"
          ]
        }
      ]
    },
    {
      "cell_type": "markdown",
      "source": [
        "**Question 2**"
      ],
      "metadata": {
        "id": "tETZJ2jxZrsx"
      }
    },
    {
      "cell_type": "code",
      "source": [
        "#updated scores for this question\n",
        "Match = 2\n",
        "Mismatch = -1\n",
        "Gap = -3\n",
        "\n",
        "dp = np.zeros((m, n), dtype = np.int)"
      ],
      "metadata": {
        "id": "HdBjdkIA0i8a"
      },
      "execution_count": null,
      "outputs": []
    },
    {
      "cell_type": "code",
      "source": [
        "newScoringMatrix = globalAlignment(dp)\n",
        "print(f\"The matrix for global alignment: \")\n",
        "print()\n",
        "printMatrix(newScoringMatrix)"
      ],
      "metadata": {
        "colab": {
          "base_uri": "https://localhost:8080/"
        },
        "id": "goADaO6MZqlZ",
        "outputId": "97b38a68-2d24-4f3b-98b2-ea60d3a8167e"
      },
      "execution_count": null,
      "outputs": [
        {
          "output_type": "stream",
          "name": "stdout",
          "text": [
            "The matrix for global alignment: \n",
            "\n",
            "X\t_\tG\tA\tT\tG\tC\tG\tC\tA\tG\t\n",
            "_\t0\t-3\t-6\t-9\t-12\t-15\t-18\t-21\t-24\t-27\t\n",
            "G\t-3\t2\t-1\t-4\t-7\t-10\t-13\t-16\t-19\t-22\t\n",
            "G\t-6\t-1\t1\t-2\t-2\t-5\t-8\t-11\t-14\t-17\t\n",
            "C\t-9\t-4\t-2\t0\t-3\t0\t-3\t-6\t-9\t-12\t\n",
            "A\t-12\t-7\t-2\t-3\t-1\t-3\t-1\t-4\t-4\t-7\t\n",
            "G\t-15\t-10\t-5\t-3\t-1\t-2\t-1\t-2\t-5\t-2\t\n",
            "T\t-18\t-13\t-8\t-3\t-4\t-2\t-3\t-2\t-3\t-5\t\n",
            "A\t-21\t-16\t-11\t-6\t-4\t-5\t-3\t-4\t0\t-3\t\n"
          ]
        }
      ]
    },
    {
      "cell_type": "code",
      "source": [
        "print(f\"All the optimal alignments with their scores: \")\n",
        "print()\n",
        "globalBacktrack(Seq1, Seq2, \"\", \"\", newScoringMatrix, m-1, n-1,0) "
      ],
      "metadata": {
        "colab": {
          "base_uri": "https://localhost:8080/"
        },
        "id": "MEADv_8JY1NN",
        "outputId": "57dbecde-04d0-4a4c-c594-68d791deb207"
      },
      "execution_count": null,
      "outputs": [
        {
          "output_type": "stream",
          "name": "stdout",
          "text": [
            "All the optimal alignments with their scores: \n",
            "\n",
            "GATGC-GCAG\n",
            "G--GCAGTA-\n",
            "Score is: -3\n",
            "------------------------------\n",
            "\n"
          ]
        }
      ]
    },
    {
      "cell_type": "markdown",
      "source": [
        "**Question 3**"
      ],
      "metadata": {
        "id": "yOWYIyR1awbt"
      }
    },
    {
      "cell_type": "code",
      "source": [
        "Seq1 = \"GATGCGCAG\" \n",
        "Seq2 = \"GGCAGTA\"\n",
        "Match = 2 \n",
        "Mismatch = -1\n",
        "Gap = -3\n",
        "m = len(Seq2) + 1\n",
        "n = len(Seq1) + 1\n",
        "dp = np.zeros((m, n), dtype = np.int)"
      ],
      "metadata": {
        "id": "BuXhllYawF5j"
      },
      "execution_count": null,
      "outputs": []
    },
    {
      "cell_type": "code",
      "source": [
        "localScoringMatrix = localAlignment(dp)\n",
        "print(f\"The matrix for local alignment: \")\n",
        "print()\n",
        "printMatrix(localScoringMatrix)"
      ],
      "metadata": {
        "colab": {
          "base_uri": "https://localhost:8080/"
        },
        "id": "qb1K31pxwhuh",
        "outputId": "848a347f-730c-4793-9068-6148245e739c"
      },
      "execution_count": null,
      "outputs": [
        {
          "output_type": "stream",
          "name": "stdout",
          "text": [
            "The matrix for local alignment: \n",
            "\n",
            "X\t_\tG\tA\tT\tG\tC\tG\tC\tA\tG\t\n",
            "_\t0\t0\t0\t0\t0\t0\t0\t0\t0\t0\t\n",
            "G\t0\t2\t0\t0\t2\t0\t2\t0\t0\t2\t\n",
            "G\t0\t2\t1\t0\t2\t1\t2\t1\t0\t2\t\n",
            "C\t0\t0\t1\t0\t0\t4\t1\t4\t1\t0\t\n",
            "A\t0\t0\t2\t0\t0\t1\t3\t1\t6\t3\t\n",
            "G\t0\t2\t0\t1\t2\t0\t3\t2\t3\t8\t\n",
            "T\t0\t0\t1\t2\t0\t1\t0\t2\t1\t5\t\n",
            "A\t0\t0\t2\t0\t1\t0\t0\t0\t4\t2\t\n"
          ]
        }
      ]
    },
    {
      "cell_type": "code",
      "source": [
        "print(f\"All the optimal alignments with their scores: \")\n",
        "print()\n",
        "row,col = findMaxIndex(localScoringMatrix)\n",
        "localBacktrack(Seq1, Seq2, \"\", \"\", localScoringMatrix, row, col,0)"
      ],
      "metadata": {
        "colab": {
          "base_uri": "https://localhost:8080/"
        },
        "id": "yZWsgXYAyiro",
        "outputId": "39b10261-5793-447e-873b-be1de6c7a3cb"
      },
      "execution_count": null,
      "outputs": [
        {
          "output_type": "stream",
          "name": "stdout",
          "text": [
            "All the optimal alignments with their scores: \n",
            "\n",
            "GCAG\n",
            "GCAG\n",
            "Score is: 8\n",
            "------------------------------\n",
            "\n"
          ]
        }
      ]
    }
  ]
}