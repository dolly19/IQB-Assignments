{
  "nbformat": 4,
  "nbformat_minor": 0,
  "metadata": {
    "colab": {
      "provenance": []
    },
    "kernelspec": {
      "name": "python3",
      "display_name": "Python 3"
    },
    "language_info": {
      "name": "python"
    }
  },
  "cells": [
    {
      "cell_type": "markdown",
      "source": [
        "# **Question 1**"
      ],
      "metadata": {
        "id": "naK-sXu7JwIc"
      }
    },
    {
      "cell_type": "markdown",
      "source": [
        "**PART A**"
      ],
      "metadata": {
        "id": "tG4nF6C7Knlh"
      }
    },
    {
      "cell_type": "code",
      "source": [
        "#Sequence\n",
        "seq=\"SGFRKMAFPSGKVEGCMVQVTCGTTTLNGLWLDDTVYCPRHVICTAEDMLNPNYEDLLIRKSNHSFLVQAGNVQLRVIGHSMQNCLLRLKVDTSNPKTPKYKFVRIQPGQTFSVLACYNGSPSGVYQCAMRPNHTIKGSFLNGSCGSVGF\"  #Our original sequence\n",
        "\n",
        "#alpha propensities for each amino acids\n",
        "pAlpha = {'A':1.45,\n",
        "          'C':0.77,\n",
        "          'D':0.98,\n",
        "          'E':1.53,\n",
        "          'F':1.12,\n",
        "          'G':0.53,\n",
        "          'H':1.24,\n",
        "          'I':1.00,\n",
        "          'K':1.07,\n",
        "          'L':1.34,\n",
        "          'M':1.20,\n",
        "          'N':0.73,\n",
        "          'P':0.59,\n",
        "          'Q':1.17,\n",
        "          'R':0.79,\n",
        "          'S':0.79,\n",
        "          'T':0.82,\n",
        "          'V':1.14,\n",
        "          'W':1.14,\n",
        "          'Y':0.61}  \n",
        "\n",
        "#beta propensities for each amino acids\n",
        "pBeta = {'A':0.97,\n",
        "          'C':1.30,\n",
        "          'D':0.80,\n",
        "          'E':0.26,\n",
        "          'F':1.28,\n",
        "          'G':0.81,\n",
        "          'H':0.71,\n",
        "          'I':1.60,\n",
        "          'K':0.74,\n",
        "          'L':1.22,\n",
        "          'M':1.67,\n",
        "          'N':0.65,\n",
        "          'P':0.62,\n",
        "          'Q':1.23,\n",
        "          'R':0.90,\n",
        "          'S':0.72,\n",
        "          'T':1.20,\n",
        "          'V':1.65,\n",
        "          'W':1.19,\n",
        "          'Y':1.29} \n"
      ],
      "metadata": {
        "id": "CWmRVK9-M4SI"
      },
      "execution_count": null,
      "outputs": []
    },
    {
      "cell_type": "code",
      "execution_count": null,
      "metadata": {
        "id": "MNnWWEto4ZQh"
      },
      "outputs": [],
      "source": [
        "class prediction:\n",
        "  def __init__(self):\n",
        "    self.n = len(seq)\n",
        "    self.helixList = [0]*self.n\n",
        "    self.strandList = [0]*self.n\n",
        "    self.outputList =[0]*self.n\n",
        "  \n",
        "\n",
        "  #Function to look in the left and right of the residue to find the complete stretch for predicting helix\n",
        "  def findHelix(self,idx):\n",
        "    i, j = idx, idx+5\n",
        "\n",
        "    #search on left\n",
        "    while(i>0):\n",
        "      scoreL = pAlpha.get(seq[i-1])+ pAlpha.get(seq[i])+ pAlpha.get(seq[i+1])+ pAlpha.get(seq[i+2])\n",
        "      if(scoreL>4):\n",
        "        i=i-1\n",
        "      else:\n",
        "        break\n",
        "\n",
        "    #search on right\n",
        "    while(j<self.n-1):\n",
        "      scoreR = pAlpha.get(seq[j+1])+ pAlpha.get(seq[j])+ pAlpha.get(seq[j-1])+ pAlpha.get(seq[j-2])\n",
        "      if(scoreR>4):\n",
        "        j=j+1\n",
        "      else:\n",
        "        break\n",
        "\n",
        "    #assign the 'H' to the fragment\n",
        "    for assign in range(i,j+1):\n",
        "      self.helixList[assign] = 'H'\n",
        "\n",
        "\n",
        "  #Function to scan the stretch of 6 residues that have atleast 4 residues with P(H)>1\n",
        "  def findHelixResidue(self):\n",
        "    for i in range(self.n-5):\n",
        "      count=0\n",
        "      for j in range(i,i+6):\n",
        "        propensity = pAlpha.get(seq[j])\n",
        "        if(propensity>=1):\n",
        "          count += 1\n",
        "      if(count>=4):\n",
        "        self.findHelix(i)\n",
        "\n",
        "\n",
        "  #Function to look in the left and right of the residue to find the complete stretch for predicting beta strand\n",
        "  def findStrand(self,idx):\n",
        "    i, j = idx, idx+4\n",
        "    #search on left\n",
        "    while(i>0):\n",
        "      scoreL = pBeta.get(seq[i-1])+ pBeta.get(seq[i])+ pBeta.get(seq[i+1])+ pBeta.get(seq[i+2])\n",
        "      if(scoreL>4):\n",
        "        i=i-1\n",
        "      else:\n",
        "        break\n",
        "\n",
        "    #search on right\n",
        "    while(j<self.n-1):\n",
        "      scoreR = pBeta.get(seq[j+1])+ pBeta.get(seq[j])+ pBeta.get(seq[j-1])+ pBeta.get(seq[j-2])\n",
        "      if(scoreR>4):\n",
        "        j=j+1\n",
        "      else:\n",
        "        break\n",
        "\n",
        "    #assign the 'S' to the fragment\n",
        "    for assign in range(i,j+1):\n",
        "      self.strandList[assign] = 'S'\n",
        "\n",
        "\n",
        "  #Function to scan the stretch of 5 residues that have atleast 3 residues with P(H)>1\n",
        "  def findStrandResidue(self):\n",
        "    for i in range(self.n-4):\n",
        "      count=0\n",
        "      for j in range(i,i+5):\n",
        "        propensity = pBeta.get(seq[j])\n",
        "        if(propensity>1):\n",
        "          count = count+1\n",
        "      if(count>=3):\n",
        "        self.findStrand(i)\n",
        "\n",
        "\n",
        "  #Function to remove the conflicting regions in helix and beta strand Lists\n",
        "  def removeConflicting(self):\n",
        "    for i in range(self.n):\n",
        "      if(self.helixList[i]=='H' and self.strandList[i] == 'S'):\n",
        "        start =i\n",
        "        end = i\n",
        "        helixScore=0\n",
        "        strandScore=0\n",
        "\n",
        "        while(end<self.n and (self.helixList[end]=='H' and self.strandList[end] == 'S')):\n",
        "          helixScore += pAlpha.get(seq[end])\n",
        "          strandScore += pBeta.get(seq[end])\n",
        "          end += 1\n",
        "        \n",
        "        if(strandScore>helixScore):\n",
        "          for j in range(start,end):\n",
        "              self.helixList[j] = '-'\n",
        "        else:\n",
        "          for j in range(start,end):\n",
        "              self.strandList[j] = '-' \n",
        "\n",
        "  #Function to display the final output from helix and strand Lists\n",
        "  def finalOutput(self):\n",
        "    for i in range(self.n):\n",
        "      if(self.helixList[i] == \"H\"):\n",
        "          self.outputList[i] = \"H\"\n",
        "      elif(self.strandList[i] == \"S\"):\n",
        "          self.outputList[i] = \"S\"\n",
        "    \n",
        "    for i in range(self.n):\n",
        "      if(self.outputList[i] == 0):\n",
        "          self.outputList[i] = \"-\"\n"
      ]
    },
    {
      "cell_type": "code",
      "source": [
        "predClass = prediction()\n",
        "predClass.findHelixResidue()\n",
        "predClass.findStrandResidue()\n",
        "predClass.removeConflicting()\n",
        "predClass.finalOutput()"
      ],
      "metadata": {
        "id": "DpJPwpdEXOFJ"
      },
      "execution_count": null,
      "outputs": []
    },
    {
      "cell_type": "markdown",
      "source": [
        "**PART B**"
      ],
      "metadata": {
        "id": "KNrlxAEnKCol"
      }
    },
    {
      "cell_type": "code",
      "source": [
        "#Generating the required output\n",
        "print(seq)\n",
        "print(\"|\"*len(seq))\n",
        "for i in range(len(seq)): \n",
        "  print(predClass.outputList[i],end = \"\")"
      ],
      "metadata": {
        "colab": {
          "base_uri": "https://localhost:8080/"
        },
        "id": "urZ0PNSZypSI",
        "outputId": "89ad0eda-b24c-4c03-dfa8-6f378826ee54"
      },
      "execution_count": null,
      "outputs": [
        {
          "output_type": "stream",
          "name": "stdout",
          "text": [
            "SGFRKMAFPSGKVEGCMVQVTCGTTTLNGLWLDDTVYCPRHVICTAEDMLNPNYEDLLIRKSNHSFLVQAGNVQLRVIGHSMQNCLLRLKVDTSNPKTPKYKFVRIQPGQTFSVLACYNGSPSGVYQCAMRPNHTIKGSFLNGSCGSVGF\n",
            "||||||||||||||||||||||||||||||||||||||||||||||||||||||||||||||||||||||||||||||||||||||||||||||||||||||||||||||||||||||||||||||||||||||||||||||||||||||\n",
            "-HHHHHHHHHHHSSSSSSSSSSSSSSHHHHHHHHHSSSSHHHHHHHHHHHH--HHHHHHHHHHSSSSSSSSSSSSSSSSSSSSSSSSSSSSSSS----HSSSSSSSSSSSSSSSSSSSSS--SSSSSSSSSS---HHHHHH---------"
          ]
        }
      ]
    }
  ]
}